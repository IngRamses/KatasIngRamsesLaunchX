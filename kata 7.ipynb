{
 "cells": [
  {
   "cell_type": "code",
   "execution_count": 1,
   "metadata": {},
   "outputs": [
    {
     "name": "stdout",
     "output_type": "stream",
     "text": [
      "mercurio\n",
      "venus\n",
      "tierra\n"
     ]
    }
   ],
   "source": [
    "nuevo_planeta=''\n",
    "planetas=[] \n",
    "while nuevo_planeta != 'done':\n",
    "    nuevo_planeta=input('Ingrese el nombre de un planeta en minusculas:')\n",
    "    while nuevo_planeta in planetas:\n",
    "        nuevo_planeta=input('Ya ingresó ese planeta, intentelo de nuevo:')\n",
    "    planetas.append(nuevo_planeta)\n",
    "    if len(planetas) == 9:\n",
    "        break\n",
    "if 'done' in planetas:\n",
    "    planetas.remove('done')\n",
    "for item in planetas:\n",
    "        print(item)\n",
    "if len(planetas) == 9:\n",
    "    print('Los planetas en nuestro sistema solar son: ', planetas)\n",
    "\n"
   ]
  },
  {
   "cell_type": "code",
   "execution_count": null,
   "metadata": {},
   "outputs": [],
   "source": []
  },
  {
   "cell_type": "code",
   "execution_count": null,
   "metadata": {},
   "outputs": [],
   "source": []
  }
 ],
 "metadata": {
  "interpreter": {
   "hash": "55765f342d340bb890bc80ac569ec66bd509e4ff4a8184f18436dbbff44ebe61"
  },
  "kernelspec": {
   "display_name": "Python 3.10.2 64-bit (windows store)",
   "language": "python",
   "name": "python3"
  },
  "language_info": {
   "codemirror_mode": {
    "name": "ipython",
    "version": 3
   },
   "file_extension": ".py",
   "mimetype": "text/x-python",
   "name": "python",
   "nbconvert_exporter": "python",
   "pygments_lexer": "ipython3",
   "version": "3.10.2"
  },
  "orig_nbformat": 4
 },
 "nbformat": 4,
 "nbformat_minor": 2
}
