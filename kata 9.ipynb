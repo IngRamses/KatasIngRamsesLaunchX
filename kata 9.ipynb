{
 "cells": [
  {
   "cell_type": "markdown",
   "metadata": {},
   "source": [
    "Kata 9.\n",
    "    Ejercico 1: Uso de funciones en python"
   ]
  },
  {
   "cell_type": "code",
   "execution_count": 1,
   "metadata": {},
   "outputs": [
    {
     "name": "stdout",
     "output_type": "stream",
     "text": [
      "Reporte de combustible:\n",
      "    promedio = 78.33333333333333\n",
      "    tanque 1 = 80%\n",
      "    tanque 2 = 70%\n",
      "    tanque 3 = 85%\n"
     ]
    }
   ],
   "source": [
    "#definimos una funcion que informe el combustible\n",
    "def informe_de_combustible(tanque1,tanque2,tanque3):\n",
    "    promedio_conmbustible=(tanque1+tanque2+tanque3)/3 \n",
    "    return f\"\"\"Reporte de combustible:\n",
    "    promedio = {promedio_conmbustible}\n",
    "    tanque 1 = {tanque1}%\n",
    "    tanque 2 = {tanque2}%\n",
    "    tanque 3 = {tanque3}%\"\"\"\n",
    "\n",
    "print(informe_de_combustible(80,70,85))"
   ]
  },
  {
   "cell_type": "code",
   "execution_count": 4,
   "metadata": {},
   "outputs": [
    {
     "data": {
      "text/plain": [
       "86.0"
      ]
     },
     "execution_count": 4,
     "metadata": {},
     "output_type": "execute_result"
    }
   ],
   "source": [
    "#Generamos  una fucnion promedio\n",
    "\n",
    "def promedio(values):\n",
    "    total=sum(values)\n",
    "    numero_de_items=len(values)\n",
    "    return total/numero_de_items"
   ]
  },
  {
   "cell_type": "code",
   "execution_count": 6,
   "metadata": {},
   "outputs": [
    {
     "name": "stdout",
     "output_type": "stream",
     "text": [
      "Promedio total de combustible = 47.666666666666664\n",
      "    tanque 1 = 84%\n",
      "    tanque 2 = 11%\n",
      "    tanque 3 = 48%\n"
     ]
    }
   ],
   "source": [
    "#Actualizamos la funcion:\n",
    "\n",
    "def informe_de_combustible(tanque1,tanque2,tanque3):\n",
    "    return f\"\"\"Promedio total de combustible = {promedio([tanque1,tanque2,tanque3])}\n",
    "    tanque 1 = {tanque1}%\n",
    "    tanque 2 = {tanque2}%\n",
    "    tanque 3 = {tanque3}%\"\"\"\n",
    "\n",
    "print(informe_de_combustible(84,11,48))\n"
   ]
  },
  {
   "cell_type": "markdown",
   "metadata": {},
   "source": [
    "Ejercicio 2"
   ]
  },
  {
   "cell_type": "code",
   "execution_count": 7,
   "metadata": {},
   "outputs": [
    {
     "name": "stdout",
     "output_type": "stream",
     "text": [
      " Reporte general de la Mision:\n",
      "    - Mision a Jupiter\n",
      "    - Tiempo total de vuelo: 39 minutos\n",
      "    - Total de combustible: 30000 galones.\n"
     ]
    }
   ],
   "source": [
    "# Función con un informe preciso de la misión. Considera hora de prelanzamiento, tiempo de vuelo, destino, tanque externo y tanque interno\n",
    "def reporte_de_mision(hora_de_prelanzamiento,tiempo_de_vuelo,destino,tanque_externo,tanque_interno):\n",
    "    return f\"\"\" Reporte general de la Mision:\n",
    "    - Mision a {destino}\n",
    "    - Tiempo del viaje: {hora_de_prelanzamiento + tiempo_de_vuelo} minutos\n",
    "    - Total de combustible: {tanque_externo + tanque_interno} galones.\"\"\"\n",
    "\n",
    "print(reporte_de_mision(15,24,'Jupiter',25000,5000))"
   ]
  },
  {
   "cell_type": "code",
   "execution_count": 8,
   "metadata": {},
   "outputs": [
    {
     "name": "stdout",
     "output_type": "stream",
     "text": [
      "Reporte general de la Mision:\n",
      "    -Mision a Saturno.\n",
      "    -Tiempo del viaje: 39 minutos.\n",
      "    -Total de combustible: 70000 galones.\n"
     ]
    }
   ],
   "source": [
    "def reporte_de_mision(destino, *minutos,**reservas_de_combustible):\n",
    "    return f\"\"\"Reporte general de la Mision:\n",
    "    -Mision a {destino}.\n",
    "    -Tiempo del viaje: {sum(minutos)} minutos.\n",
    "    -Total de combustible: {sum(reservas_de_combustible.values())} galones.\"\"\"\n",
    "print(reporte_de_mision('Saturno', 10,15,14, interno=50000, externo=20000 ))"
   ]
  },
  {
   "cell_type": "code",
   "execution_count": 22,
   "metadata": {},
   "outputs": [
    {
     "name": "stdout",
     "output_type": "stream",
     "text": [
      "Reporte general de la Mision:\n",
      "   -Mision a Saturno.\n",
      "   -Tiempo del viaje: 66 minutos.\n",
      "   -Total de combustible: 35000 galones. \n",
      "     Tanque principal  --> 25000 gallones restantes\n",
      "     Tanque secundario  --> 10000 gallones restantes\n",
      "\n"
     ]
    }
   ],
   "source": [
    " #funcion con especificidad del combustible por tanque.\n",
    " \n",
    " def reporte_de_mision(destino, *minutos,**reservas_de_combustible):\n",
    "    reporte_principal= f\"\"\"Reporte general de la Mision:\n",
    "    -Mision a {destino}.\n",
    "    -Tiempo del viaje: {sum(minutos)} minutos.\n",
    "    -Total de combustible: {sum(reservas_de_combustible.values())} galones. \\n\"\"\"\n",
    "    \n",
    "    for nombre_tanque, gallones in reservas_de_combustible.items():\n",
    "        reporte_principal += f\"     Tanque {nombre_tanque}  --> {gallones} gallones restantes\\n\"\n",
    "    return reporte_principal\n",
    "print(reporte_de_mision('Saturno', 25,18,23, principal=25000, secundario=10000))"
   ]
  },
  {
   "cell_type": "code",
   "execution_count": null,
   "metadata": {},
   "outputs": [],
   "source": []
  }
 ],
 "metadata": {
  "interpreter": {
   "hash": "55765f342d340bb890bc80ac569ec66bd509e4ff4a8184f18436dbbff44ebe61"
  },
  "kernelspec": {
   "display_name": "Python 3.10.2 64-bit (windows store)",
   "language": "python",
   "name": "python3"
  },
  "language_info": {
   "codemirror_mode": {
    "name": "ipython",
    "version": 3
   },
   "file_extension": ".py",
   "mimetype": "text/x-python",
   "name": "python",
   "nbconvert_exporter": "python",
   "pygments_lexer": "ipython3",
   "version": "3.10.2"
  },
  "orig_nbformat": 4
 },
 "nbformat": 4,
 "nbformat_minor": 2
}
