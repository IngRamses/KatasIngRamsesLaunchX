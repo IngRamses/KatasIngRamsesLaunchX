{
 "cells": [
  {
   "cell_type": "code",
   "execution_count": 9,
   "metadata": {},
   "outputs": [
    {
     "name": "stdout",
     "output_type": "stream",
     "text": [
      "la distancia entre jupiter y la tierra es de: 628949330 km\n",
      "la distancia entre jupiter y la tierra es de: 390577533.93 millas\n"
     ]
    }
   ],
   "source": [
    "tierra= 149597870\n",
    "jupiter= 778547200\n",
    "\n",
    "distancia= jupiter-tierra\n",
    "\n",
    "print(\"la distancia entre jupiter y la tierra es de:\" , distancia, \"km\")\n",
    "print(\"la distancia entre jupiter y la tierra es de:\" , distancia*0.621 , \"millas\")\n",
    "\n"
   ]
  },
  {
   "cell_type": "markdown",
   "metadata": {},
   "source": [
    "Para evaluar la distancia entre dos planetas, ejecute la aplicacion utilizando los siguientes datos. \n",
    "\n",
    "| Planeta  | Distancia al sol |\n",
    "| ------- | ----------------- |\n",
    "| Mercurio | 57900000          |\n",
    "| Venus   | 108200000         |\n",
    "| Tierra   | 149600000         |\n",
    "| Marte    | 227900000         |\n",
    "| Júpiter | 778600000         |\n",
    "| Saturno  | 1433500000        |\n",
    "| Urano  | 2872500000        |\n",
    "| Neptuno | 4495100000        |"
   ]
  },
  {
   "cell_type": "code",
   "execution_count": 10,
   "metadata": {},
   "outputs": [
    {
     "name": "stdout",
     "output_type": "stream",
     "text": [
      "\n",
      "Distancia entre Tierra y jupiter\n",
      "-------------------------------------------------------------------------------\n",
      "Distancia en km: 632000000\n",
      "Distancia en millas 392472000.0:\n",
      "\n"
     ]
    }
   ],
   "source": [
    "planeta_1= input('Introduzca el nombre del planeta 1')\n",
    "distancia_1= input('introduzcla la distancia del planeta 1 al sol en km')\n",
    "planeta_2= input('Introduzca el nombre del planeta 2')\n",
    "distancia_2= input('introuzca la distancia del planeta dos al sol en km')\n",
    "\n",
    "#d1 es distancia 1 y d2 es distancia dos en numeros.\n",
    "d1=int(distancia_1)\n",
    "d2=int(distancia_2)\n",
    "\n",
    "#d12 = distancia entre planeta 1 y planeta 2\n",
    "d12= abs(d1-d2)\n",
    "d12millas=d12*0.621\n",
    "\n",
    "plantilla = \"\"\"\n",
    "Distancia entre {name1} y {name2}\n",
    "-------------------------------------------------------------------------------\n",
    "Distancia en km: {d}\n",
    "Distancia en millas {dmillas}:\n",
    "\"\"\"\n",
    "print(plantilla.format(name1=planeta_1, name2=planeta_2 , d=d12 , dmillas=d12millas))\n",
    "\n",
    " #Solo cambiar los datos en el \".format\" para cambiar los datos sde la plantllla\n",
    "\n",
    " \n",
    "\n"
   ]
  }
 ],
 "metadata": {
  "interpreter": {
   "hash": "c966d6e0aa892517cb5554ef24d31d5a45e38a1a6598b5a4938d6c16969458bf"
  },
  "kernelspec": {
   "display_name": "Python 3.10.2 64-bit",
   "language": "python",
   "name": "python3"
  },
  "language_info": {
   "codemirror_mode": {
    "name": "ipython",
    "version": 3
   },
   "file_extension": ".py",
   "mimetype": "text/x-python",
   "name": "python",
   "nbconvert_exporter": "python",
   "pygments_lexer": "ipython3",
   "version": "3.10.2"
  },
  "orig_nbformat": 4
 },
 "nbformat": 4,
 "nbformat_minor": 2
}
