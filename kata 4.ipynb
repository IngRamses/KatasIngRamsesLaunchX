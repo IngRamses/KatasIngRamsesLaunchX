{
 "cells": [
  {
   "cell_type": "markdown",
   "metadata": {},
   "source": [
    "Ejercicio 1"
   ]
  },
  {
   "cell_type": "code",
   "execution_count": 55,
   "metadata": {},
   "outputs": [
    {
     "name": "stdout",
     "output_type": "stream",
     "text": [
      " The Moon is Earth's only satellite\n",
      " \n",
      "On average, the Moon moves 4cm away from the Earth every year\n",
      " The highest daylight temperature of the Moon is 127 C\n",
      " The highest daylight temperature of the Moon is 127 Celcius\n"
     ]
    }
   ],
   "source": [
    "text = \"\"\"Interesting facts about the Moon. The Moon is Earth's only satellite. There are several interesting facts about the Moon and how it affects life here on Earth. \n",
    "On average, the Moon moves 4cm away from the Earth every year. This yearly drift is not significant enough to cause immediate effects on Earth. The highest daylight temperature of the Moon is 127 C.\"\"\"\n",
    "\n",
    "text .split('.')\n",
    "\n",
    "for item in text .split('.'):\n",
    "    if 'satellite' in item:\n",
    "        print(item)\n",
    "    elif 'temperature' in item:\n",
    "        print(item)\n",
    "    elif 'average' in item:\n",
    "        print(item)\n",
    "        \n",
    "for item in text .split('.'):\n",
    "    if 'C' in item:\n",
    "        print(item.replace('C' , 'Celcius'))\n",
    "\n",
    "\n"
   ]
  },
  {
   "cell_type": "markdown",
   "metadata": {},
   "source": [
    "Ejercicio 2"
   ]
  },
  {
   "cell_type": "code",
   "execution_count": 56,
   "metadata": {},
   "outputs": [
    {
     "name": "stdout",
     "output_type": "stream",
     "text": [
      "nombre del planeta:Tirra\n",
      "Gravedad en La Luna: 0.00162 m/s^2\n",
      "\n",
      "Datos de Gravedad sobre: ganimides\n",
      "-------------------------------------------------------------------------------\n",
      "Nombre del planeta: marte\n",
      "Gravedad en ganimides: 1.4300000000000002 m/s^2\n",
      "\n"
     ]
    }
   ],
   "source": [
    "name= \"La Luna\"\n",
    "gravity= 0.00162 #En kms ¿? Deberian ser m/s^2 \n",
    "planet= \"Tirra\"\n",
    "\n",
    "titulo = f'datos de la gravedad en {name}'\n",
    "facts= f\"\"\"nombre del planeta:{planet}\n",
    "Gravedad en {name}: {gravity} m/s^2\"\"\"\n",
    "\n",
    "template= f\"\"\"{titulo.title()}\n",
    "{facts}\"\"\"\n",
    "\n",
    "print(facts)\n",
    "\n",
    "plantilla = \"\"\"\n",
    "Datos de Gravedad sobre: {name}\n",
    "-------------------------------------------------------------------------------\n",
    "Nombre del planeta: {planet}\n",
    "Gravedad en {name}: {gravity} m/s^2\n",
    "\"\"\"\n",
    "print(plantilla.format(name='ganimides', planet='marte' , gravity=0.00143*1000))\n",
    "\n",
    " #Solo cambiar los datos en el \".format\" para cambiar los datos sde la plantllla\n"
   ]
  },
  {
   "cell_type": "code",
   "execution_count": null,
   "metadata": {},
   "outputs": [],
   "source": []
  }
 ],
 "metadata": {
  "interpreter": {
   "hash": "c966d6e0aa892517cb5554ef24d31d5a45e38a1a6598b5a4938d6c16969458bf"
  },
  "kernelspec": {
   "display_name": "Python 3.10.2 64-bit",
   "language": "python",
   "name": "python3"
  },
  "language_info": {
   "codemirror_mode": {
    "name": "ipython",
    "version": 3
   },
   "file_extension": ".py",
   "mimetype": "text/x-python",
   "name": "python",
   "nbconvert_exporter": "python",
   "pygments_lexer": "ipython3",
   "version": "3.10.2"
  },
  "orig_nbformat": 4
 },
 "nbformat": 4,
 "nbformat_minor": 2
}
