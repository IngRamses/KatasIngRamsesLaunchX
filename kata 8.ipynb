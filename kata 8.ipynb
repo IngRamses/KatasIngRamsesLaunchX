{
 "cells": [
  {
   "cell_type": "markdown",
   "metadata": {},
   "source": [
    "Kata 8: Informacion de Marte."
   ]
  },
  {
   "cell_type": "markdown",
   "metadata": {},
   "source": [
    "Ejercicio 1: Creacion de diccionarios con python."
   ]
  },
  {
   "cell_type": "code",
   "execution_count": 11,
   "metadata": {},
   "outputs": [
    {
     "name": "stdout",
     "output_type": "stream",
     "text": [
      "marte\n",
      "2\n",
      "El planeta marte tiene una circunferencia polar de 6752 km\n"
     ]
    }
   ],
   "source": [
    "#Creamos diccionario \"planet\"\n",
    "\n",
    "planeta={'nombre':'marte','lunas':2}\n",
    "\n",
    "#recuperamos valores por medio de \"get\" o por \"[]\"\n",
    "\n",
    "print(planeta.get('nombre'))\n",
    "print(planeta['lunas'])\n",
    "\n",
    "#añadimos un diccionario dentro del diccionario con valores de circunferencia\n",
    "\n",
    "planeta['circunferencia (km)']= {'polar':6752,'equatorial':6792}\n",
    "\n",
    "#mostramos la circunferencica polar de marte\n",
    "\n",
    "print(f'El planeta {planeta[\"nombre\"]} tiene una circunferencia polar de {planeta[\"circunferencia (km)\"][\"polar\"]} km')\n",
    "\n",
    "\n"
   ]
  },
  {
   "cell_type": "markdown",
   "metadata": {},
   "source": [
    "Ejercicio 2. Programacion dinamica con diccionarios.\n",
    "    Ejercicio: Calculo de valores.\n",
    "    "
   ]
  },
  {
   "cell_type": "code",
   "execution_count": 21,
   "metadata": {},
   "outputs": [
    {
     "name": "stdout",
     "output_type": "stream",
     "text": [
      "dict_values([0, 0, 1, 2, 79, 82, 27, 14, 5, 2, 1, 1])\n",
      "el total de lunas en el sistema solar es de 214\n",
      "El promedio de lunas por planeta es de 17.833333333333332\n"
     ]
    }
   ],
   "source": [
    "#creamos el diccionario de lunas por planeta\n",
    "lunas_por_planeta = {\n",
    "    'mercurio': 0,\n",
    "    'venus': 0,\n",
    "    'tierra': 1,\n",
    "    'marte': 2,\n",
    "    'jupiter': 79,\n",
    "    'saturno': 82,\n",
    "    'urano': 27,\n",
    "    'neptuno': 14,\n",
    "    'pluton': 5,\n",
    "    'haumea': 2,\n",
    "    'makemake': 1,\n",
    "    'eris': 1\n",
    "}\n",
    "#creamos lista de los valores de lunas por planeta\n",
    "lunas=lunas_por_planeta.values()\n",
    "print(lunas)\n",
    "#definimos la variable lunas totales y creamos ciclo para contar el total de lunas \n",
    "lunas_totales = 0\n",
    "#definimos la variable planetas como el total de planetas dentro de la lista lunas por planeta.\n",
    "planetas=len(lunas_por_planeta.keys())\n",
    "\n",
    "for value in lunas_por_planeta.values():\n",
    "    lunas_totales= lunas_totales + value\n",
    "#calculamos el promedio de lunas por planeta. \n",
    "promedio_lunas=lunas_totales/planetas\n",
    "print(f'el total de lunas en el sistema solar es de {lunas_totales}')\n",
    "print(f'El promedio de lunas por planeta es de {promedio_lunas}')\n",
    "    "
   ]
  },
  {
   "cell_type": "code",
   "execution_count": null,
   "metadata": {},
   "outputs": [],
   "source": []
  },
  {
   "cell_type": "code",
   "execution_count": null,
   "metadata": {},
   "outputs": [],
   "source": []
  }
 ],
 "metadata": {
  "interpreter": {
   "hash": "55765f342d340bb890bc80ac569ec66bd509e4ff4a8184f18436dbbff44ebe61"
  },
  "kernelspec": {
   "display_name": "Python 3.10.2 64-bit (windows store)",
   "language": "python",
   "name": "python3"
  },
  "language_info": {
   "codemirror_mode": {
    "name": "ipython",
    "version": 3
   },
   "file_extension": ".py",
   "mimetype": "text/x-python",
   "name": "python",
   "nbconvert_exporter": "python",
   "pygments_lexer": "ipython3",
   "version": "3.10.2"
  },
  "orig_nbformat": 4
 },
 "nbformat": 4,
 "nbformat_minor": 2
}
