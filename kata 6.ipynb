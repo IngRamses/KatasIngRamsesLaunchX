{
 "cells": [
  {
   "cell_type": "markdown",
   "metadata": {},
   "source": [
    "Ejercicio 1:"
   ]
  },
  {
   "cell_type": "code",
   "execution_count": 5,
   "metadata": {},
   "outputs": [
    {
     "name": "stdout",
     "output_type": "stream",
     "text": [
      "El numero de planetas en el sistema solar es 8\n",
      "['mercurio', 'venus', 'tierra', 'marte', 'jupiter', 'saturno', 'urano', 'neptuno', 'pluton']\n",
      "pluton\n"
     ]
    }
   ],
   "source": [
    "planetas=['mercurio','venus','tierra','marte','jupiter','saturno','urano','neptuno']\n",
    "print('El numero de planetas en el sistema solar es', len(planetas))\n",
    "planetas.append('pluton')\n",
    "print(planetas[-1])\n"
   ]
  },
  {
   "cell_type": "markdown",
   "metadata": {},
   "source": [
    "Ejercicio 2:"
   ]
  },
  {
   "cell_type": "code",
   "execution_count": 18,
   "metadata": {},
   "outputs": [
    {
     "name": "stdout",
     "output_type": "stream",
     "text": [
      "el indice del planeta ingresado es 4\n",
      "jupiter es el  5 º planeta del sistema solar\n",
      "Los planetas mas cercanos al sol son; ['mercurio', 'venus', 'tierra', 'marte']\n",
      "Los planetas mas alejados del sol son: ['saturno', 'urano', 'neptuno']\n"
     ]
    }
   ],
   "source": [
    "planetas=['mercurio','venus','tierra','marte','jupiter','saturno','urano','neptuno']\n",
    "\n",
    "planeta=input('Introduzca el nombre de un planeta (con minusculas)')\n",
    "\n",
    "indice_planeta= planetas.index(planeta)\n",
    "print('el indice del planeta ingresado es', indice_planeta)\n",
    "print(planeta, 'es el ', indice_planeta + 1,'º planeta del sistema solar')\n",
    "print('Los planetas mas cercanos al sol son;', planetas[0:indice_planeta])\n",
    "print('Los planetas mas alejados del sol son:', planetas[indice_planeta+1:])"
   ]
  },
  {
   "cell_type": "code",
   "execution_count": null,
   "metadata": {},
   "outputs": [],
   "source": []
  }
 ],
 "metadata": {
  "interpreter": {
   "hash": "55765f342d340bb890bc80ac569ec66bd509e4ff4a8184f18436dbbff44ebe61"
  },
  "kernelspec": {
   "display_name": "Python 3.10.2 64-bit (windows store)",
   "language": "python",
   "name": "python3"
  },
  "language_info": {
   "codemirror_mode": {
    "name": "ipython",
    "version": 3
   },
   "file_extension": ".py",
   "mimetype": "text/x-python",
   "name": "python",
   "nbconvert_exporter": "python",
   "pygments_lexer": "ipython3",
   "version": "3.10.2"
  },
  "orig_nbformat": 4
 },
 "nbformat": 4,
 "nbformat_minor": 2
}
