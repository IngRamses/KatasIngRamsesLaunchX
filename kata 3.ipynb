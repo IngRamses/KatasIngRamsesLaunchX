{
 "cells": [
  {
   "cell_type": "markdown",
   "metadata": {},
   "source": [
    "Sistema de evaluacion de asteroides"
   ]
  },
  {
   "cell_type": "code",
   "execution_count": 11,
   "metadata": {},
   "outputs": [
    {
     "name": "stdout",
     "output_type": "stream",
     "text": [
      "Bienvenido al sistema de evaluacion de asteroides\n",
      "La velocidad del asteroide es de 19 km/s \n",
      "El asteroide no representa riesgo\n"
     ]
    }
   ],
   "source": [
    "print('Bienvenido al sistema de evaluacion de asteroides')\n",
    "Vel_asteroide = input('Introduzca la velocidad del asteroide')\n",
    "print('La velocidad del asteroide es de ' + Vel_asteroide + ' km/s ')\n",
    "Vel_critica= 25\n",
    "vel_ast= int(Vel_asteroide)\n",
    "if vel_ast > Vel_critica:\n",
    "    print ('¡Advertencia!')\n",
    "else:\n",
    "    print('El asteroide no representa riesgo')"
   ]
  },
  {
   "cell_type": "code",
   "execution_count": 12,
   "metadata": {},
   "outputs": [
    {
     "name": "stdout",
     "output_type": "stream",
     "text": [
      "Bienvenido al analisis de luz de asteroides\n",
      "No hay nada que ver\n"
     ]
    }
   ],
   "source": [
    "print('Bienvenido al analisis de luz de asteroides')\n",
    "asteroide = input('introduce la velocidad del asteroide')\n",
    "\n",
    "if int(asteroide) > 20:\n",
    "    print('Mira hacia arriba!!!')\n",
    "elif asteroide == 20:\n",
    "    print('Mira hacia arriba!!!')\n",
    "else:\n",
    "    print('No hay nada que ver')"
   ]
  },
  {
   "cell_type": "code",
   "execution_count": 14,
   "metadata": {},
   "outputs": [
    {
     "name": "stdout",
     "output_type": "stream",
     "text": [
      "¡Alerta Maxima, la tierra podria ser destruida!\n"
     ]
    }
   ],
   "source": [
    "velocidad_asteroide = input('Ingresa la velocidad del asteroide en km/s')\n",
    "tamano_asteroide = input('ingresa el diametro del asteroide en km')\n",
    "if int(velocidad_asteroide) > 25 and int(tamano_asteroide) > 25:\n",
    "    print('¡Alerta Maxima, la tierra podria ser destruida!')\n",
    "elif int(velocidad_asteroide) >= 20:\n",
    "    print('Mira hacia arriba!')\n",
    "elif int(tamano_asteroide) < 25:\n",
    "    print('No hay nada que ver')\n",
    "else:\n",
    "    print('No hay nada que ver')"
   ]
  }
 ],
 "metadata": {
  "interpreter": {
   "hash": "c966d6e0aa892517cb5554ef24d31d5a45e38a1a6598b5a4938d6c16969458bf"
  },
  "kernelspec": {
   "display_name": "Python 3.10.2 64-bit",
   "language": "python",
   "name": "python3"
  },
  "language_info": {
   "codemirror_mode": {
    "name": "ipython",
    "version": 3
   },
   "file_extension": ".py",
   "mimetype": "text/x-python",
   "name": "python",
   "nbconvert_exporter": "python",
   "pygments_lexer": "ipython3",
   "version": "3.10.2"
  },
  "orig_nbformat": 4
 },
 "nbformat": 4,
 "nbformat_minor": 2
}
